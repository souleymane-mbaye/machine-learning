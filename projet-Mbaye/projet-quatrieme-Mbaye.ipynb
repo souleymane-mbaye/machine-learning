{
 "cells": [
  {
   "attachments": {},
   "cell_type": "markdown",
   "metadata": {},
   "source": [
    "# Projet ML Souleymane Mbaye"
   ]
  },
  {
   "cell_type": "code",
   "execution_count": 4,
   "metadata": {},
   "outputs": [
    {
     "name": "stdout",
     "output_type": "stream",
     "text": [
      "The autoreload extension is already loaded. To reload it, use:\n",
      "  %reload_ext autoreload\n"
     ]
    }
   ],
   "source": [
    "import sys\n",
    "sys.path.append('./')\n",
    "from src import Loss,Modules\n",
    "import matplotlib.pyplot as plt\n",
    "import pickle as pkl\n",
    "%matplotlib inline  \n",
    "\n",
    "\n",
    "%load_ext autoreload\n",
    "%autoreload 2"
   ]
  },
  {
   "attachments": {},
   "cell_type": "markdown",
   "metadata": {},
   "source": [
    "## 1. Test du Module Linear avec MSELoss sur la classification de chiffres de 0 à 9"
   ]
  },
  {
   "cell_type": "code",
   "execution_count": 2,
   "metadata": {},
   "outputs": [
    {
     "data": {
      "text/plain": [
       "(array([0, 9, 7, 0, 2]), array([2, 0, 0, 2, 7]))"
      ]
     },
     "execution_count": 2,
     "metadata": {},
     "output_type": "execute_result"
    }
   ],
   "source": [
    "import numpy as np\n",
    "import pickle as pkl\n",
    "\n",
    "data = pkl.load(open('data/usps.pkl', 'rb'))\n",
    "X = np.array(data['X_train'], dtype=float) # conversion de type pour une meilleure compatibilité\n",
    "Y = np.array(data['Y_train'], dtype=int)\n",
    "X_test = np.array(data['X_test'], dtype=float)\n",
    "Y_test = np.array(data['Y_test'], dtype=int)\n",
    "\n",
    "Y[:5],Y_test[:5]"
   ]
  },
  {
   "cell_type": "code",
   "execution_count": 3,
   "metadata": {},
   "outputs": [],
   "source": [
    "model_lin_1 = Modules.Linear(256,16)\n",
    "\n",
    "model_tanh = Modules.TanH()\n",
    "# model_tanh.ajouter_precendent(model_lin_1)\n",
    "# model_lin_1.ajouter_suivant(model_tanh)\n",
    "\n",
    "model_lin_2 = Modules.Linear(16,10)\n",
    "# model_lin_2.ajouter_precendent(model_tanh)\n",
    "# model_tanh.ajouter_suivant(model_lin_2)\n",
    "\n",
    "model_sig = Modules.Sigmoid()\n",
    "# model_sig.ajouter_precendent(model_lin_2)\n",
    "# model_lin_2.ajouter_suivant(model_sig)\n",
    "\n",
    "model_softmax = Modules.Softmax()\n",
    "# model_softmax.ajouter_precendent(model_sig)\n",
    "# model_sig.ajouter_suivant(model_softmax)\n",
    "\n",
    "loss_fn = Loss.CELoss()\n",
    "\n",
    "reseau_seq = Modules.Sequentiel((model_lin_1,\n",
    "                                 model_tanh,\n",
    "                                 model_lin_2,\n",
    "                                 model_sig,\n",
    "                                 model_softmax))\n",
    "\n",
    "optim = Modules.Optim(reseau_seq,loss_fn,lr=1e-3)"
   ]
  },
  {
   "cell_type": "code",
   "execution_count": 182,
   "metadata": {},
   "outputs": [
    {
     "name": "stdout",
     "output_type": "stream",
     "text": [
      "Accuracy train: \n",
      " 97.8\n",
      "Accuracy test: \n",
      " 93.7\n"
     ]
    }
   ],
   "source": [
    "l_train_loss = Modules.SGD(reseau_seq,loss_fn,(X,Y),batch_size=5,epochs=10_000,lr=1e-3)\n",
    "pred_test = Modules.prediction(X_test,reseau_seq)\n",
    "pred_train = Modules.prediction(X,reseau_seq)\n",
    "\n",
    "correct_test = (pred_test == Y_test).sum() / len(Y_test)\n",
    "correct_train = (pred_train == Y).sum() / len(Y)\n",
    "\n",
    "print(f\"Accuracy train: \\n {(100*correct_train):>0.1f}\")\n",
    "print(f\"Accuracy test: \\n {(100*correct_test):>0.1f}\")\n",
    "\n",
    "# Accuracy train: \n",
    "#  97.8\n",
    "# Accuracy test: \n",
    "#  93.7"
   ]
  },
  {
   "cell_type": "code",
   "execution_count": 183,
   "metadata": {},
   "outputs": [
    {
     "data": {
      "image/png": "[encoded data removed]",
      "text/plain": [
       "<Figure size 432x288 with 1 Axes>"
      ]
     },
     "metadata": {
      "needs_background": "light"
     },
     "output_type": "display_data"
    }
   ],
   "source": [
    "plt.figure()\n",
    "plt.plot(np.arange(len(l_train_loss)),l_train_loss)\n",
    "plt.title(\"Evolution de la loss pendant train\")\n",
    "plt.show()"
   ]
  },
  {
   "cell_type": "code",
   "execution_count": null,
   "metadata": {},
   "outputs": [],
   "source": []
  },
  {
   "cell_type": "markdown",
   "metadata": {},
   "source": [
    "## 2. Test du Module Linear avec la base MNIST"
   ]
  },
  {
   "cell_type": "code",
   "execution_count": 9,
   "metadata": {},
   "outputs": [
    {
     "name": "stdout",
     "output_type": "stream",
     "text": [
      "Shape: (70000, 784)\n",
      "\n",
      "Taille de la base train: 56000\n",
      "Taille de la base test: 14000\n"
     ]
    }
   ],
   "source": [
    "# Charger les données à partir du fichier\n",
    "with open('data/mnist_data.pkl', 'rb') as f:\n",
    "  X, y = pkl.load(f)\n",
    "\n",
    "print(f\"Shape: {X.shape}\")\n",
    "\n",
    "L = [i for i in range(len(y))]\n",
    "np.random.shuffle(L)\n",
    "\n",
    "n_80 = int(0.8 * len(y))\n",
    "\n",
    "X_train,y_train = X[L[:n_80]],y[L[:n_80]]\n",
    "X_test,y_test = X[L[n_80:]],y[L[n_80:]]\n",
    "\n",
    "print(f\"\\nTaille de la base train: {len(y_train)}\\nTaille de la base test: {len(y_test)}\")\n"
   ]
  },
  {
   "cell_type": "code",
   "execution_count": 10,
   "metadata": {},
   "outputs": [
    {
     "data": {
      "text/plain": [
       "array([5, 0, 4, 1, 9])"
      ]
     },
     "execution_count": 10,
     "metadata": {},
     "output_type": "execute_result"
    }
   ],
   "source": [
    "y[:5]"
   ]
  },
  {
   "cell_type": "code",
   "execution_count": 6,
   "metadata": {},
   "outputs": [],
   "source": [
    "model_lin_1 = Modules.Linear(784,200)\n",
    "\n",
    "model_tanh = Modules.TanH()\n",
    "\n",
    "model_lin_2 = Modules.Linear(200,10)\n",
    "\n",
    "model_sig = Modules.Sigmoid()\n",
    "\n",
    "model_softmax = Modules.Softmax()\n",
    "\n",
    "loss_fn = Loss.CELoss()\n",
    "\n",
    "reseau_seq = Modules.Sequentiel((model_lin_1,\n",
    "                                 model_tanh,\n",
    "                                 model_lin_2,\n",
    "                                 model_sig,\n",
    "                                 model_softmax))\n",
    "\n",
    "optim = Modules.Optim(reseau_seq,loss_fn,lr=1e-3)"
   ]
  },
  {
   "cell_type": "code",
   "execution_count": 11,
   "metadata": {},
   "outputs": [
    {
     "name": "stdout",
     "output_type": "stream",
     "text": [
      "Accuracy train: \n",
      " 97.7\n",
      "Accuracy test: \n",
      " 96.3\n"
     ]
    }
   ],
   "source": [
    "l_train_loss = Modules.SGD(reseau_seq,loss_fn,(X_train,y_train),batch_size=5,epochs=10_0,lr=1e-3)\n",
    "pred_test = Modules.prediction(X_test,reseau_seq)\n",
    "pred_train = Modules.prediction(X_train,reseau_seq)\n",
    "\n",
    "correct_test = (pred_test == y_test).sum() / len(y_test)\n",
    "correct_train = (pred_train == y_train).sum() / len(y_train)\n",
    "\n",
    "print(f\"Accuracy train: \\n {(100*correct_train):>0.1f}\")\n",
    "print(f\"Accuracy test: \\n {(100*correct_test):>0.1f}\")\n",
    "\n",
    "# Accuracy train: \n",
    "#  97.7\n",
    "# Accuracy test: \n",
    "#  96.3"
   ]
  },
  {
   "cell_type": "code",
   "execution_count": 12,
   "metadata": {},
   "outputs": [
    {
     "data": {
      "image/png": "[encoded data removed]",
      "text/plain": [
       "<Figure size 432x288 with 1 Axes>"
      ]
     },
     "metadata": {
      "needs_background": "light"
     },
     "output_type": "display_data"
    }
   ],
   "source": [
    "plt.figure()\n",
    "plt.plot(np.arange(len(l_train_loss)),l_train_loss)\n",
    "plt.title(\"Evolution de la loss pendant train\")\n",
    "plt.show()"
   ]
  },
  {
   "attachments": {},
   "cell_type": "markdown",
   "metadata": {},
   "source": [
    "## 3. Test avec la base Fashion-MNIST"
   ]
  },
  {
   "cell_type": "code",
   "execution_count": 5,
   "metadata": {},
   "outputs": [
    {
     "name": "stdout",
     "output_type": "stream",
     "text": [
      "Taille train: (60000, 784)\n",
      "Taille test: (10000, 784)\n"
     ]
    }
   ],
   "source": [
    "with open('data/fashion_mnist_data.pkl', 'rb') as f:\n",
    "  (X_train, y_train), (X_test, y_test) = pkl.load(f)\n",
    "\n",
    "X_train = X_train.reshape((len(X_train),-1))\n",
    "X_test = X_test.reshape((len(X_test),-1))\n",
    "\n",
    "print(f\"Taille train: {X_train.shape}\\nTaille test: {X_test.shape}\")"
   ]
  },
  {
   "cell_type": "code",
   "execution_count": 7,
   "metadata": {},
   "outputs": [
    {
     "data": {
      "text/plain": [
       "<matplotlib.image.AxesImage at 0x118047ac0>"
      ]
     },
     "execution_count": 7,
     "metadata": {},
     "output_type": "execute_result"
    },
    {
     "data": {
      "image/png": "[encoded data removed]",
      "text/plain": [
       "<Figure size 432x288 with 1 Axes>"
      ]
     },
     "metadata": {
      "needs_background": "light"
     },
     "output_type": "display_data"
    }
   ],
   "source": [
    "plt.figure()\n",
    "plt.imshow(X_train[10].reshape((28,28)))"
   ]
  },
  {
   "cell_type": "code",
   "execution_count": 8,
   "metadata": {},
   "outputs": [],
   "source": [
    "model_lin_1 = Modules.Linear(784,200)\n",
    "\n",
    "model_tanh = Modules.TanH()\n",
    "\n",
    "model_lin_2 = Modules.Linear(200,10)\n",
    "\n",
    "model_sig = Modules.Sigmoid()\n",
    "\n",
    "model_softmax = Modules.Softmax()\n",
    "\n",
    "loss_fn = Loss.CELoss()\n",
    "\n",
    "reseau_seq = Modules.Sequentiel((model_lin_1,\n",
    "                                 model_tanh,\n",
    "                                 model_lin_2,\n",
    "                                 model_sig,\n",
    "                                 model_softmax))\n",
    "\n",
    "optim = Modules.Optim(reseau_seq,loss_fn,lr=1e-3)"
   ]
  },
  {
   "cell_type": "code",
   "execution_count": 12,
   "metadata": {},
   "outputs": [
    {
     "name": "stdout",
     "output_type": "stream",
     "text": [
      "Accuracy train: \n",
      " 81.2\n",
      "Accuracy test: \n",
      " 79.8\n"
     ]
    }
   ],
   "source": [
    "l_train_loss = Modules.SGD(reseau_seq,loss_fn,(X_train,y_train),batch_size=5,epochs=10_0,lr=1e-3)\n",
    "pred_test = Modules.prediction(X_test,reseau_seq)\n",
    "pred_train = Modules.prediction(X_train,reseau_seq)\n",
    "\n",
    "correct_test = (pred_test == y_test).sum() / len(y_test)\n",
    "correct_train = (pred_train == y_train).sum() / len(y_train)\n",
    "\n",
    "print(f\"Accuracy train: \\n {(100*correct_train):>0.1f}\")\n",
    "print(f\"Accuracy test: \\n {(100*correct_test):>0.1f}\")\n",
    "\n",
    "# Accuracy train: \n",
    "#  81.2\n",
    "# Accuracy test: \n",
    "#  79.8"
   ]
  },
  {
   "cell_type": "code",
   "execution_count": 16,
   "metadata": {},
   "outputs": [
    {
     "data": {
      "image/png": "[encoded data removed]",
      "text/plain": [
       "<Figure size 432x288 with 1 Axes>"
      ]
     },
     "metadata": {
      "needs_background": "light"
     },
     "output_type": "display_data"
    }
   ],
   "source": [
    "import numpy as np\n",
    "plt.figure()\n",
    "plt.plot(np.arange(len(l_train_loss)),l_train_loss)\n",
    "plt.title(\"Evolution de la loss pendant train\")\n",
    "plt.show()"
   ]
  }
 ],
 "metadata": {
  "kernelspec": {
   "display_name": "Python 3",
   "language": "python",
   "name": "python3"
  },
  "language_info": {
   "codemirror_mode": {
    "name": "ipython",
    "version": 3
   },
   "file_extension": ".py",
   "mimetype": "text/x-python",
   "name": "python",
   "nbconvert_exporter": "python",
   "pygments_lexer": "ipython3",
   "version": "3.9.16"
  },
  "orig_nbformat": 4
 },
 "nbformat": 4,
 "nbformat_minor": 2
}
