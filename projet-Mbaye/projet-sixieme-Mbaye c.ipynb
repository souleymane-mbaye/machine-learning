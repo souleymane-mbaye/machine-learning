{
 "cells": [
  {
   "attachments": {},
   "cell_type": "markdown",
   "metadata": {},
   "source": [
    "# Projet ML Souleymane Mbaye"
   ]
  },
  {
   "cell_type": "code",
   "execution_count": 1,
   "metadata": {},
   "outputs": [],
   "source": [
    "import sys\n",
    "sys.path.append('./')\n",
    "from src import Loss,Modules\n",
    "import matplotlib.pyplot as plt\n",
    "%matplotlib inline  \n",
    "\n",
    "\n",
    "%load_ext autoreload\n",
    "%autoreload 2"
   ]
  },
  {
   "attachments": {},
   "cell_type": "markdown",
   "metadata": {},
   "source": [
    "## 1. Test du Module Linear avec MSELoss sur la classification de chiffres de 0 à 9"
   ]
  },
  {
   "cell_type": "code",
   "execution_count": 2,
   "metadata": {},
   "outputs": [
    {
     "name": "stdout",
     "output_type": "stream",
     "text": [
      "Sur X_train:\n",
      "  shape:  (6229, 256)\n",
      "Sur X_test:\n",
      "  max:  (3069, 256)\n"
     ]
    }
   ],
   "source": [
    "import numpy as np\n",
    "import pickle as pkl\n",
    "\n",
    "data = pkl.load(open('data/usps.pkl', 'rb'))\n",
    "X = np.array(data['X_train'], dtype=float) # conversion de type pour une meilleure compatibilité\n",
    "Y = np.array(data['Y_train'], dtype=int)\n",
    "X_test = np.array(data['X_test'], dtype=float)\n",
    "Y_test = np.array(data['Y_test'], dtype=int)\n",
    "\n",
    "print(f\"Sur X_train:\\n  shape:  {X.shape}\")\n",
    "print(f\"Sur X_test:\\n  max:  {X_test.shape}\")"
   ]
  },
  {
   "cell_type": "code",
   "execution_count": 3,
   "metadata": {},
   "outputs": [
    {
     "name": "stdout",
     "output_type": "stream",
     "text": [
      "Sur X_train:\n",
      "  shape:  (6229, 1, 16, 16)\n",
      "Sur X_test:\n",
      "  max:  (3069, 1, 16, 16)\n"
     ]
    }
   ],
   "source": [
    "X = X.reshape((len(X),1,16,16))\n",
    "X_test = X_test.reshape((len(X_test),1,16,16))\n",
    "\n",
    "print(f\"Sur X_train:\\n  shape:  {X.shape}\")\n",
    "print(f\"Sur X_test:\\n  max:  {X_test.shape}\")"
   ]
  },
  {
   "cell_type": "code",
   "execution_count": 4,
   "metadata": {},
   "outputs": [
    {
     "data": {
      "text/plain": [
       "(1, 16, 16)"
      ]
     },
     "execution_count": 4,
     "metadata": {},
     "output_type": "execute_result"
    }
   ],
   "source": [
    "X[0].shape"
   ]
  },
  {
   "cell_type": "code",
   "execution_count": 5,
   "metadata": {},
   "outputs": [
    {
     "name": "stdout",
     "output_type": "stream",
     "text": [
      "dim out: (3, 8, 8)\n"
     ]
    }
   ],
   "source": [
    "# conv\n",
    "conv = Modules.Conv(C=1,K=3,F=3,S=2,P=1)\n",
    "K2,Oh,Ow = conv.out_size(X[0]) # dimensions de sortie de la couche conv\n",
    "print(f\"dim out: ({K2}, {Oh}, {Ow})\")\n",
    "relu = Modules.ReLU()\n",
    "flatt = Modules.Flatten()\n",
    "# Fully connected\n",
    "model_lin_1 = Modules.Linear(K2*Oh*Ow,16)\n",
    "model_tanh = Modules.TanH()\n",
    "model_lin_2 = Modules.Linear(16,10)\n",
    "model_sig = Modules.Sigmoid()\n",
    "\n",
    "model_softmax = Modules.Softmax()\n",
    "\n",
    "loss_fn = Loss.CELoss()\n",
    "\n",
    "reseau_seq_1 = Modules.Sequentiel((conv,\n",
    "                                 relu,\n",
    "                                 flatt,\n",
    "                                 model_lin_1,\n",
    "                                 model_tanh,\n",
    "                                 model_lin_2,\n",
    "                                 model_sig,\n",
    "                                 model_softmax))\n"
   ]
  },
  {
   "cell_type": "code",
   "execution_count": 6,
   "metadata": {},
   "outputs": [
    {
     "name": "stdout",
     "output_type": "stream",
     "text": [
      "Epoch 5 sur 5: 100.00% loss: 0.23025327461497058\n",
      "----------------------------------------------\n",
      "Accuracy train: \n",
      " 17.1\n",
      "Accuracy test: \n",
      " 15.9\n"
     ]
    }
   ],
   "source": [
    "l_train_loss = Modules.SGD(reseau_seq_1,loss_fn,(X,Y),batch_size=50,epochs=5,lr=1e-3)\n",
    "pred_test = Modules.prediction(X_test,reseau_seq_1)\n",
    "pred_train = Modules.prediction(X,reseau_seq_1)\n",
    "\n",
    "correct_test = (pred_test == Y_test).sum() / len(Y_test)\n",
    "correct_train = (pred_train == Y).sum() / len(Y)\n",
    "\n",
    "print(f\"Accuracy train: \\n {(100*correct_train):>0.1f}\")\n",
    "print(f\"Accuracy test: \\n {(100*correct_test):>0.1f}\")\n",
    "\n",
    "# Accuracy train: \n",
    "#  31.0\n",
    "# Accuracy test: \n",
    "#  29.6"
   ]
  },
  {
   "cell_type": "code",
   "execution_count": 7,
   "metadata": {},
   "outputs": [
    {
     "data": {
      "image/png": "[encoded data removed]",
      "text/plain": [
       "<Figure size 432x288 with 1 Axes>"
      ]
     },
     "metadata": {
      "needs_background": "light"
     },
     "output_type": "display_data"
    }
   ],
   "source": [
    "plt.figure()\n",
    "plt.plot(np.arange(len(l_train_loss)),l_train_loss)\n",
    "plt.title(\"Evolution de la loss pendant train\")\n",
    "plt.show()"
   ]
  },
  {
   "attachments": {},
   "cell_type": "markdown",
   "metadata": {},
   "source": [
    "### 2. Convolution avec Maxpool"
   ]
  },
  {
   "cell_type": "code",
   "execution_count": 19,
   "metadata": {},
   "outputs": [
    {
     "name": "stdout",
     "output_type": "stream",
     "text": [
      "MaxPool dim out: (3, 4, 4)\n"
     ]
    }
   ],
   "source": [
    "# conv\n",
    "conv = Modules.Conv(C=1,K=3,F=3,S=2,P=1)\n",
    "yconv = conv.forward(X[:2])\n",
    "\n",
    "mpool = Modules.MaxPool(F=2,S=2)\n",
    "K2,Oh,Ow = mpool.out_size(yconv[0]) # dimensions de sortie de la couche conv\n",
    "print(f\"MaxPool dim out: ({K2}, {Oh}, {Ow})\")\n",
    "\n",
    "flatt = Modules.Flatten()\n",
    "model_lin_1 = Modules.Linear(K2*Oh*Ow,100)\n",
    "relu = Modules.ReLU()\n",
    "model_lin_2 = Modules.Linear(100,10)\n",
    "model_sig = Modules.Sigmoid()\n",
    "\n",
    "model_softmax = Modules.Softmax()\n",
    "\n",
    "loss_fn = Loss.CELoss()\n",
    "\n",
    "reseau_seq_2 = Modules.Sequentiel((conv,\n",
    "                                 mpool,\n",
    "                                 flatt,\n",
    "                                 model_lin_1,\n",
    "                                 relu,\n",
    "                                 model_lin_2,\n",
    "                                 model_sig,\n",
    "                                 model_softmax))\n"
   ]
  },
  {
   "cell_type": "code",
   "execution_count": 24,
   "metadata": {},
   "outputs": [
    {
     "name": "stdout",
     "output_type": "stream",
     "text": [
      "Accuracy train: \n",
      " 84.4\n",
      "Accuracy test: \n",
      " 83.0\n"
     ]
    }
   ],
   "source": [
    "l_train_loss = Modules.SGD(reseau_seq_2,loss_fn,(X,Y),batch_size=5,epochs=50,lr=1e-3)\n",
    "pred_test = Modules.prediction(X_test,reseau_seq_2)\n",
    "pred_train = Modules.prediction(X,reseau_seq_2)\n",
    "\n",
    "correct_test = (pred_test == Y_test).sum() / len(Y_test)\n",
    "correct_train = (pred_train == Y).sum() / len(Y)\n",
    "\n",
    "print(f\"Accuracy train: \\n {(100*correct_train):>0.1f}\")\n",
    "print(f\"Accuracy test: \\n {(100*correct_test):>0.1f}\")\n",
    "\n",
    "# Accuracy train: \n",
    "#  84.4\n",
    "# Accuracy test: \n",
    "#  83.0"
   ]
  },
  {
   "cell_type": "code",
   "execution_count": 25,
   "metadata": {},
   "outputs": [
    {
     "data": {
      "image/png": "[encoded data removed]",
      "text/plain": [
       "<Figure size 432x288 with 1 Axes>"
      ]
     },
     "metadata": {
      "needs_background": "light"
     },
     "output_type": "display_data"
    }
   ],
   "source": [
    "plt.figure()\n",
    "plt.plot(np.arange(len(l_train_loss)),l_train_loss)\n",
    "plt.title(\"Evolution de la loss pendant train\")\n",
    "plt.show()"
   ]
  },
  {
   "attachments": {},
   "cell_type": "markdown",
   "metadata": {},
   "source": [
    "### 3. Convolution avec Averagepool"
   ]
  },
  {
   "cell_type": "code",
   "execution_count": 8,
   "metadata": {},
   "outputs": [
    {
     "name": "stdout",
     "output_type": "stream",
     "text": [
      "MaxPool dim out: (3, 4, 4)\n"
     ]
    }
   ],
   "source": [
    "# conv\n",
    "conv = Modules.Conv(C=1,K=3,F=3,S=2,P=1)\n",
    "yconv = conv.forward(X[:2])\n",
    "\n",
    "apool = Modules.AveragePool(F=2,S=2)\n",
    "K2,Oh,Ow = apool.out_size(yconv[0]) # dimensions de sortie de la couche conv\n",
    "print(f\"MaxPool dim out: ({K2}, {Oh}, {Ow})\")\n",
    "\n",
    "flatt = Modules.Flatten()\n",
    "model_lin_1 = Modules.Linear(K2*Oh*Ow,100)\n",
    "relu = Modules.ReLU()\n",
    "model_lin_2 = Modules.Linear(100,10)\n",
    "model_sig = Modules.Sigmoid()\n",
    "\n",
    "model_softmax = Modules.Softmax()\n",
    "\n",
    "loss_fn = Loss.CELoss()\n",
    "\n",
    "reseau_seq_2 = Modules.Sequentiel((conv,\n",
    "                                 apool,\n",
    "                                 flatt,\n",
    "                                 model_lin_1,\n",
    "                                 relu,\n",
    "                                 model_lin_2,\n",
    "                                 model_sig,\n",
    "                                 model_softmax))\n"
   ]
  },
  {
   "cell_type": "code",
   "execution_count": 9,
   "metadata": {},
   "outputs": [
    {
     "name": "stdout",
     "output_type": "stream",
     "text": [
      "Epoch 50 sur 50: 100.00% loss: 0.17197283515624548\n",
      "----------------------------------------------\n",
      "Accuracy train: \n",
      " 70.2\n",
      "Accuracy test: \n",
      " 69.0\n"
     ]
    }
   ],
   "source": [
    "l_train_loss = Modules.SGD(reseau_seq_2,loss_fn,(X,Y),batch_size=5,epochs=50,lr=1e-3)\n",
    "pred_test = Modules.prediction(X_test,reseau_seq_2)\n",
    "pred_train = Modules.prediction(X,reseau_seq_2)\n",
    "\n",
    "correct_test = (pred_test == Y_test).sum() / len(Y_test)\n",
    "correct_train = (pred_train == Y).sum() / len(Y)\n",
    "\n",
    "print(f\"Accuracy train: \\n {(100*correct_train):>0.1f}\")\n",
    "print(f\"Accuracy test: \\n {(100*correct_test):>0.1f}\")\n",
    "\n",
    "# Accuracy train: \n",
    "#  84.4\n",
    "# Accuracy test: \n",
    "#  83.0"
   ]
  },
  {
   "cell_type": "code",
   "execution_count": 10,
   "metadata": {},
   "outputs": [
    {
     "data": {
      "image/png": "[encoded data removed]",
      "text/plain": [
       "<Figure size 432x288 with 1 Axes>"
      ]
     },
     "metadata": {
      "needs_background": "light"
     },
     "output_type": "display_data"
    }
   ],
   "source": [
    "plt.figure()\n",
    "plt.plot(np.arange(len(l_train_loss)),l_train_loss)\n",
    "plt.title(\"Evolution de la loss pendant train\")\n",
    "plt.show()"
   ]
  },
  {
   "attachments": {},
   "cell_type": "markdown",
   "metadata": {},
   "source": [
    "## 2. Test du Module Linear avec la base MNIST"
   ]
  },
  {
   "attachments": {},
   "cell_type": "markdown",
   "metadata": {},
   "source": [
    "### Avec ReLU"
   ]
  },
  {
   "cell_type": "code",
   "execution_count": 10,
   "metadata": {},
   "outputs": [
    {
     "name": "stdout",
     "output_type": "stream",
     "text": [
      "Shape: (70000, 784)\n",
      "\n",
      "Taille de la base train: 56000\n",
      "Taille de la base test: 14000\n"
     ]
    }
   ],
   "source": [
    "# Charger les données à partir du fichier\n",
    "with open('data/mnist_data.pkl', 'rb') as f:\n",
    "  X, y = pkl.load(f)\n",
    "\n",
    "print(f\"Shape: {X.shape}\")\n",
    "\n",
    "L = [i for i in range(len(y))]\n",
    "np.random.shuffle(L)\n",
    "\n",
    "n_80 = int(0.8 * len(y))\n",
    "\n",
    "X_train,y_train = X[L[:n_80]],y[L[:n_80]]\n",
    "X_test,y_test = X[L[n_80:]],y[L[n_80:]]\n",
    "\n",
    "print(f\"\\nTaille de la base train: {len(y_train)}\\nTaille de la base test: {len(y_test)}\")\n"
   ]
  },
  {
   "cell_type": "code",
   "execution_count": 11,
   "metadata": {},
   "outputs": [
    {
     "name": "stdout",
     "output_type": "stream",
     "text": [
      "Sur X_train:\n",
      "  shape:  (56000, 784)\n",
      "Sur X_test:\n",
      "  max:  (14000, 784)\n",
      "Sur X_train:\n",
      "  shape:  (56000, 1, 28, 28)\n",
      "Sur X_test:\n",
      "  max:  (14000, 1, 28, 28)\n"
     ]
    }
   ],
   "source": [
    "print(f\"Sur X_train:\\n  shape:  {X_train.shape}\")\n",
    "print(f\"Sur X_test:\\n  max:  {X_test.shape}\")\n",
    "\n",
    "X_train = X_train.reshape((len(X_train),1,28,28))\n",
    "X_test = X_test.reshape((len(X_test),1,28,28))\n",
    "\n",
    "print(f\"Sur X_train:\\n  shape:  {X_train.shape}\")\n",
    "print(f\"Sur X_test:\\n  max:  {X_test.shape}\")"
   ]
  },
  {
   "cell_type": "code",
   "execution_count": 12,
   "metadata": {},
   "outputs": [
    {
     "data": {
      "text/plain": [
       "array([5, 0, 4, 1, 9])"
      ]
     },
     "execution_count": 12,
     "metadata": {},
     "output_type": "execute_result"
    }
   ],
   "source": [
    "y[:5]"
   ]
  },
  {
   "cell_type": "code",
   "execution_count": 14,
   "metadata": {},
   "outputs": [
    {
     "name": "stdout",
     "output_type": "stream",
     "text": [
      "dim out: (3, 14, 14)\n"
     ]
    }
   ],
   "source": [
    "# conv\n",
    "conv = Modules.Conv(C=1,K=3,F=3,S=2,P=1)\n",
    "K2,Oh,Ow = conv.out_size(X_train[0]) # dimensions de sortie de la couche conv\n",
    "print(f\"dim out: ({K2}, {Oh}, {Ow})\")\n",
    "relu = Modules.ReLU()\n",
    "flatt = Modules.Flatten()\n",
    "# Fully connected\n",
    "model_lin_1 = Modules.Linear(K2*Oh*Ow,200)\n",
    "model_tanh = Modules.TanH()\n",
    "model_lin_2 = Modules.Linear(200,10)\n",
    "model_sig = Modules.Sigmoid()\n",
    "\n",
    "model_softmax = Modules.Softmax()\n",
    "\n",
    "loss_fn = Loss.CELoss()\n",
    "\n",
    "reseau_seq_3 = Modules.Sequentiel((conv,\n",
    "                                 relu,\n",
    "                                 flatt,\n",
    "                                 model_lin_1,\n",
    "                                 model_tanh,\n",
    "                                 model_lin_2,\n",
    "                                 model_sig,\n",
    "                                 model_softmax))\n"
   ]
  },
  {
   "cell_type": "code",
   "execution_count": 27,
   "metadata": {},
   "outputs": [
    {
     "name": "stdout",
     "output_type": "stream",
     "text": [
      "Accuracy train: 9.99%\n",
      " 67.8\n",
      "Accuracy test: \n",
      " 68.0\n"
     ]
    }
   ],
   "source": [
    "l_train_loss = Modules.SGD(reseau_seq_3,loss_fn,(X_train,y_train),batch_size=50,epochs=2,lr=1e-3,v=True)\n",
    "pred_test = Modules.prediction(X_test,reseau_seq_3)\n",
    "pred_train = Modules.prediction(X_train,reseau_seq_3)\n",
    "\n",
    "correct_test = (pred_test == y_test).sum() / len(y_test)\n",
    "correct_train = (pred_train == y_train).sum() / len(y_train)\n",
    "\n",
    "print(f\"Accuracy train: \\n {(100*correct_train):>0.1f}\")\n",
    "print(f\"Accuracy test: \\n {(100*correct_test):>0.1f}\")\n",
    "\n",
    "# Accuracy train: \n",
    "#  67.8\n",
    "# Accuracy test: \n",
    "#  68.0"
   ]
  },
  {
   "cell_type": "code",
   "execution_count": 28,
   "metadata": {},
   "outputs": [
    {
     "data": {
      "image/png": "[encoded data removed]",
      "text/plain": [
       "<Figure size 432x288 with 1 Axes>"
      ]
     },
     "metadata": {
      "needs_background": "light"
     },
     "output_type": "display_data"
    }
   ],
   "source": [
    "plt.figure()\n",
    "plt.plot(np.arange(len(l_train_loss)),l_train_loss)\n",
    "plt.title(\"Evolution de la loss pendant train\")\n",
    "plt.show()"
   ]
  },
  {
   "attachments": {},
   "cell_type": "markdown",
   "metadata": {},
   "source": [
    "### Avec MaxPool"
   ]
  },
  {
   "cell_type": "code",
   "execution_count": 29,
   "metadata": {},
   "outputs": [
    {
     "name": "stdout",
     "output_type": "stream",
     "text": [
      "MaxPool dim out: (3, 7, 7)\n"
     ]
    }
   ],
   "source": [
    "# conv\n",
    "conv = Modules.Conv(C=1,K=3,F=3,S=2,P=1)\n",
    "yconv = conv.forward(X_train[:2])\n",
    "\n",
    "mpool = Modules.MaxPool(F=2,S=2)\n",
    "K2,Oh,Ow = mpool.out_size(yconv[0]) # dimensions de sortie de la couche conv\n",
    "print(f\"MaxPool dim out: ({K2}, {Oh}, {Ow})\")\n",
    "\n",
    "flatt = Modules.Flatten()\n",
    "model_lin_1 = Modules.Linear(K2*Oh*Ow,200)\n",
    "relu = Modules.ReLU()\n",
    "model_lin_2 = Modules.Linear(200,10)\n",
    "model_sig = Modules.Sigmoid()\n",
    "\n",
    "model_softmax = Modules.Softmax()\n",
    "\n",
    "loss_fn = Loss.CELoss()\n",
    "\n",
    "reseau_seq_4 = Modules.Sequentiel((conv,\n",
    "                                 mpool,\n",
    "                                 flatt,\n",
    "                                 model_lin_1,\n",
    "                                 relu,\n",
    "                                 model_lin_2,\n",
    "                                 model_sig,\n",
    "                                 model_softmax))\n"
   ]
  },
  {
   "cell_type": "code",
   "execution_count": 31,
   "metadata": {},
   "outputs": [
    {
     "name": "stdout",
     "output_type": "stream",
     "text": [
      "Accuracy train: 9.91%\n",
      " 69.9\n",
      "Accuracy test: \n",
      " 70.8\n"
     ]
    }
   ],
   "source": [
    "l_train_loss = Modules.SGD(reseau_seq_4,loss_fn,(X_train,y_train),batch_size=50,epochs=2,lr=1e-3,v=True)\n",
    "pred_test = Modules.prediction(X_test,reseau_seq_4)\n",
    "pred_train = Modules.prediction(X_train,reseau_seq_4)\n",
    "\n",
    "correct_test = (pred_test == y_test).sum() / len(y_test)\n",
    "correct_train = (pred_train == y_train).sum() / len(y_train)\n",
    "\n",
    "print(f\"Accuracy train: \\n {(100*correct_train):>0.1f}\")\n",
    "print(f\"Accuracy test: \\n {(100*correct_test):>0.1f}\")\n",
    "\n",
    "# Accuracy train: \n",
    "#  69.9\n",
    "# Accuracy test: \n",
    "#  70.8"
   ]
  },
  {
   "cell_type": "code",
   "execution_count": 32,
   "metadata": {},
   "outputs": [
    {
     "data": {
      "image/png": "[encoded data removed]",
      "text/plain": [
       "<Figure size 432x288 with 1 Axes>"
      ]
     },
     "metadata": {
      "needs_background": "light"
     },
     "output_type": "display_data"
    }
   ],
   "source": [
    "plt.figure()\n",
    "plt.plot(np.arange(len(l_train_loss)),l_train_loss)\n",
    "plt.title(\"Evolution de la loss pendant train\")\n",
    "plt.show()"
   ]
  },
  {
   "attachments": {},
   "cell_type": "markdown",
   "metadata": {},
   "source": [
    "### Avec AveragePool"
   ]
  },
  {
   "cell_type": "code",
   "execution_count": null,
   "metadata": {},
   "outputs": [
    {
     "name": "stdout",
     "output_type": "stream",
     "text": [
      "MaxPool dim out: (3, 7, 7)\n"
     ]
    }
   ],
   "source": [
    "# conv\n",
    "conv = Modules.Conv(C=1,K=3,F=3,S=2,P=1)\n",
    "yconv = conv.forward(X_train[:2])\n",
    "\n",
    "apool = Modules.AveragePool(F=2,S=2)\n",
    "K2,Oh,Ow = apool.out_size(yconv[0]) # dimensions de sortie de la couche conv\n",
    "print(f\"MaxPool dim out: ({K2}, {Oh}, {Ow})\")\n",
    "\n",
    "flatt = Modules.Flatten()\n",
    "model_lin_1 = Modules.Linear(K2*Oh*Ow,200)\n",
    "relu = Modules.ReLU()\n",
    "model_lin_2 = Modules.Linear(200,10)\n",
    "model_sig = Modules.Sigmoid()\n",
    "\n",
    "model_softmax = Modules.Softmax()\n",
    "\n",
    "loss_fn = Loss.CELoss()\n",
    "\n",
    "reseau_seq_4 = Modules.Sequentiel((conv,\n",
    "                                 apool,\n",
    "                                 flatt,\n",
    "                                 model_lin_1,\n",
    "                                 relu,\n",
    "                                 model_lin_2,\n",
    "                                 model_sig,\n",
    "                                 model_softmax))\n"
   ]
  },
  {
   "cell_type": "code",
   "execution_count": null,
   "metadata": {},
   "outputs": [
    {
     "name": "stdout",
     "output_type": "stream",
     "text": [
      "Accuracy train: 9.91%\n",
      " 69.9\n",
      "Accuracy test: \n",
      " 70.8\n"
     ]
    }
   ],
   "source": [
    "l_train_loss = Modules.SGD(reseau_seq_4,loss_fn,(X_train,y_train),batch_size=50,epochs=2,lr=1e-3,v=True)\n",
    "pred_test = Modules.prediction(X_test,reseau_seq_4)\n",
    "pred_train = Modules.prediction(X_train,reseau_seq_4)\n",
    "\n",
    "correct_test = (pred_test == y_test).sum() / len(y_test)\n",
    "correct_train = (pred_train == y_train).sum() / len(y_train)\n",
    "\n",
    "print(f\"Accuracy train: \\n {(100*correct_train):>0.1f}\")\n",
    "print(f\"Accuracy test: \\n {(100*correct_test):>0.1f}\")\n",
    "\n",
    "# Accuracy train: \n",
    "#  69.9\n",
    "# Accuracy test: \n",
    "#  70.8"
   ]
  },
  {
   "cell_type": "code",
   "execution_count": null,
   "metadata": {},
   "outputs": [
    {
     "data": {
      "image/png": "[encoded data removed]",
      "text/plain": [
       "<Figure size 432x288 with 1 Axes>"
      ]
     },
     "metadata": {},
     "output_type": "display_data"
    }
   ],
   "source": [
    "plt.figure()\n",
    "plt.plot(np.arange(len(l_train_loss)),l_train_loss)\n",
    "plt.title(\"Evolution de la loss pendant train\")\n",
    "plt.show()"
   ]
  },
  {
   "attachments": {},
   "cell_type": "markdown",
   "metadata": {},
   "source": [
    "## 3. Test avec la base Fashion-MNIST"
   ]
  },
  {
   "cell_type": "code",
   "execution_count": 33,
   "metadata": {},
   "outputs": [
    {
     "name": "stdout",
     "output_type": "stream",
     "text": [
      "Taille train: (60000, 784)\n",
      "Taille test: (10000, 784)\n"
     ]
    }
   ],
   "source": [
    "with open('data/fashion_mnist_data.pkl', 'rb') as f:\n",
    "  (X_train, y_train), (X_test, y_test) = pkl.load(f)\n",
    "\n",
    "X_train = X_train.reshape((len(X_train),-1))\n",
    "X_test = X_test.reshape((len(X_test),-1))\n",
    "\n",
    "print(f\"Taille train: {X_train.shape}\\nTaille test: {X_test.shape}\")"
   ]
  },
  {
   "cell_type": "code",
   "execution_count": 77,
   "metadata": {},
   "outputs": [
    {
     "data": {
      "text/plain": [
       "array([9, 0, 0, 3, 0], dtype=uint8)"
      ]
     },
     "execution_count": 77,
     "metadata": {},
     "output_type": "execute_result"
    }
   ],
   "source": [
    "y_train[:5]"
   ]
  },
  {
   "cell_type": "code",
   "execution_count": 34,
   "metadata": {},
   "outputs": [
    {
     "data": {
      "text/plain": [
       "<matplotlib.image.AxesImage at 0x11f210640>"
      ]
     },
     "execution_count": 34,
     "metadata": {},
     "output_type": "execute_result"
    },
    {
     "data": {
      "image/png": "[encoded data removed]",
      "text/plain": [
       "<Figure size 432x288 with 1 Axes>"
      ]
     },
     "metadata": {
      "needs_background": "light"
     },
     "output_type": "display_data"
    }
   ],
   "source": [
    "plt.figure()\n",
    "plt.imshow(X_train[10].reshape((28,28)))"
   ]
  },
  {
   "cell_type": "code",
   "execution_count": 35,
   "metadata": {},
   "outputs": [
    {
     "name": "stdout",
     "output_type": "stream",
     "text": [
      "Sur X_train:\n",
      "  shape:  (60000, 784)\n",
      "Sur X_test:\n",
      "  max:  (10000, 784)\n",
      "Sur X_train:\n",
      "  shape:  (60000, 1, 28, 28)\n",
      "Sur X_test:\n",
      "  max:  (10000, 1, 28, 28)\n"
     ]
    }
   ],
   "source": [
    "print(f\"Sur X_train:\\n  shape:  {X_train.shape}\")\n",
    "print(f\"Sur X_test:\\n  max:  {X_test.shape}\")\n",
    "\n",
    "X_train = X_train.reshape((len(X_train),1,28,28))\n",
    "X_test = X_test.reshape((len(X_test),1,28,28))\n",
    "\n",
    "print(f\"Sur X_train:\\n  shape:  {X_train.shape}\")\n",
    "print(f\"Sur X_test:\\n  max:  {X_test.shape}\")"
   ]
  },
  {
   "attachments": {},
   "cell_type": "markdown",
   "metadata": {},
   "source": [
    "### Avec ReLU"
   ]
  },
  {
   "cell_type": "code",
   "execution_count": 50,
   "metadata": {},
   "outputs": [
    {
     "name": "stdout",
     "output_type": "stream",
     "text": [
      "dim out: (3, 14, 14)\n"
     ]
    }
   ],
   "source": [
    "# conv\n",
    "conv = Modules.Conv(C=1,K=3,F=3,S=2,P=1)\n",
    "K2,Oh,Ow = conv.out_size(X_train[0]) # dimensions de sortie de la couche conv\n",
    "print(f\"dim out: ({K2}, {Oh}, {Ow})\")\n",
    "relu = Modules.ReLU()\n",
    "flatt = Modules.Flatten()\n",
    "# Fully connected\n",
    "model_lin_1 = Modules.Linear(K2*Oh*Ow,200)\n",
    "model_tanh = Modules.TanH()\n",
    "model_lin_2 = Modules.Linear(200,10)\n",
    "model_sig = Modules.Sigmoid()\n",
    "\n",
    "model_softmax = Modules.Softmax()\n",
    "\n",
    "loss_fn = Loss.CELoss()\n",
    "\n",
    "reseau_seq_5 = Modules.Sequentiel((conv,\n",
    "                                 relu,\n",
    "                                 flatt,\n",
    "                                 model_lin_1,\n",
    "                                 model_tanh,\n",
    "                                 model_lin_2,\n",
    "                                 model_sig,\n",
    "                                 model_softmax))\n"
   ]
  },
  {
   "cell_type": "code",
   "execution_count": 51,
   "metadata": {},
   "outputs": [
    {
     "name": "stdout",
     "output_type": "stream",
     "text": [
      "Epoch 2 sur 2: 100.00% loss: 0.1858653381206415\n",
      "----------------------------------------\n",
      "Accuracy train: \n",
      " 68.2\n",
      "Accuracy test: \n",
      " 67.2\n"
     ]
    }
   ],
   "source": [
    "l_train_loss = Modules.SGD(reseau_seq_5,loss_fn,(X_train,y_train),batch_size=50,epochs=2,lr=1e-3,v=True)\n",
    "pred_test = Modules.prediction(X_test,reseau_seq_5)\n",
    "pred_train = Modules.prediction(X_train,reseau_seq_5)\n",
    "\n",
    "correct_test = (pred_test == y_test).sum() / len(y_test)\n",
    "correct_train = (pred_train == y_train).sum() / len(y_train)\n",
    "\n",
    "print(f\"Accuracy train: \\n {(100*correct_train):>0.1f}\")\n",
    "print(f\"Accuracy test: \\n {(100*correct_test):>0.1f}\")\n",
    "\n",
    "# Accuracy train: \n",
    "#  68.6\n",
    "# Accuracy test: \n",
    "#  68.6"
   ]
  },
  {
   "cell_type": "code",
   "execution_count": 52,
   "metadata": {},
   "outputs": [
    {
     "data": {
      "image/png": "[encoded data removed]",
      "text/plain": [
       "<Figure size 432x288 with 1 Axes>"
      ]
     },
     "metadata": {
      "needs_background": "light"
     },
     "output_type": "display_data"
    }
   ],
   "source": [
    "plt.figure()\n",
    "plt.plot(np.arange(len(l_train_loss)),l_train_loss)\n",
    "plt.title(\"Evolution de la loss pendant train\")\n",
    "plt.show()"
   ]
  },
  {
   "attachments": {},
   "cell_type": "markdown",
   "metadata": {},
   "source": [
    "### Avec MaxPool"
   ]
  },
  {
   "cell_type": "code",
   "execution_count": 43,
   "metadata": {},
   "outputs": [
    {
     "name": "stdout",
     "output_type": "stream",
     "text": [
      "MaxPool dim out: (3, 7, 7)\n"
     ]
    }
   ],
   "source": [
    "# conv\n",
    "conv = Modules.Conv(C=1,K=3,F=3,S=2,P=1)\n",
    "yconv = conv.forward(X_train[:2])\n",
    "\n",
    "mpool = Modules.MaxPool(F=2,S=2)\n",
    "K2,Oh,Ow = mpool.out_size(yconv[0]) # dimensions de sortie de la couche conv\n",
    "print(f\"MaxPool dim out: ({K2}, {Oh}, {Ow})\")\n",
    "\n",
    "flatt = Modules.Flatten()\n",
    "model_lin_1 = Modules.Linear(K2*Oh*Ow,200)\n",
    "relu = Modules.ReLU()\n",
    "model_lin_2 = Modules.Linear(200,10)\n",
    "model_sig = Modules.Sigmoid()\n",
    "\n",
    "model_softmax = Modules.Softmax()\n",
    "\n",
    "loss_fn = Loss.CELoss()\n",
    "\n",
    "reseau_seq_6 = Modules.Sequentiel((conv,\n",
    "                                 mpool,\n",
    "                                 flatt,\n",
    "                                 model_lin_1,\n",
    "                                 relu,\n",
    "                                 model_lin_2,\n",
    "                                 model_sig,\n",
    "                                 model_softmax))\n"
   ]
  },
  {
   "cell_type": "code",
   "execution_count": 48,
   "metadata": {},
   "outputs": [
    {
     "name": "stderr",
     "output_type": "stream",
     "text": [
      "/Users/souleymbaye/Documents/MesDocs/UPMC/UPMC_DAC_22/S2/ML/projet/src/Modules.py:139: RuntimeWarning: overflow encountered in exp\n",
      "  self.Y = (1 / (1 + np.exp(-X)))\n"
     ]
    },
    {
     "name": "stdout",
     "output_type": "stream",
     "text": [
      "Epoch 2 sur 2: 100.00% loss: 0.20252229517027207\n",
      "----------------------------------------\n",
      "Accuracy train: \n",
      " 10.0\n",
      "Accuracy test: \n",
      " 10.0\n"
     ]
    }
   ],
   "source": [
    "l_train_loss = Modules.SGD(reseau_seq_6,loss_fn,(X_train,y_train),batch_size=50,epochs=2,lr=1e-3,v=True)\n",
    "pred_test = Modules.prediction(X_test,reseau_seq_6)\n",
    "pred_train = Modules.prediction(X_train,reseau_seq_6)\n",
    "\n",
    "correct_test = (pred_test == y_test).sum() / len(y_test)\n",
    "correct_train = (pred_train == y_train).sum() / len(y_train)\n",
    "\n",
    "print(f\"Accuracy train: \\n {(100*correct_train):>0.1f}\")\n",
    "print(f\"Accuracy test: \\n {(100*correct_test):>0.1f}\")\n",
    "\n",
    "# Accuracy train: \n",
    "#  97.7\n",
    "# Accuracy test: \n",
    "#  96.3"
   ]
  },
  {
   "cell_type": "code",
   "execution_count": 49,
   "metadata": {},
   "outputs": [
    {
     "data": {
      "image/png": "[encoded data removed]",
      "text/plain": [
       "<Figure size 432x288 with 1 Axes>"
      ]
     },
     "metadata": {
      "needs_background": "light"
     },
     "output_type": "display_data"
    }
   ],
   "source": [
    "plt.figure()\n",
    "plt.plot(np.arange(len(l_train_loss)),l_train_loss)\n",
    "plt.title(\"Evolution de la loss pendant train\")\n",
    "plt.show()"
   ]
  },
  {
   "attachments": {},
   "cell_type": "markdown",
   "metadata": {},
   "source": [
    "### Avec AveragePool"
   ]
  },
  {
   "cell_type": "code",
   "execution_count": null,
   "metadata": {},
   "outputs": [
    {
     "name": "stdout",
     "output_type": "stream",
     "text": [
      "MaxPool dim out: (3, 7, 7)\n"
     ]
    }
   ],
   "source": [
    "# conv\n",
    "conv = Modules.Conv(C=1,K=3,F=3,S=2,P=1)\n",
    "yconv = conv.forward(X_train[:2])\n",
    "\n",
    "apool = Modules.AveragePool(F=2,S=2)\n",
    "K2,Oh,Ow = apool.out_size(yconv[0]) # dimensions de sortie de la couche conv\n",
    "print(f\"MaxPool dim out: ({K2}, {Oh}, {Ow})\")\n",
    "\n",
    "flatt = Modules.Flatten()\n",
    "model_lin_1 = Modules.Linear(K2*Oh*Ow,200)\n",
    "relu = Modules.ReLU()\n",
    "model_lin_2 = Modules.Linear(200,10)\n",
    "model_sig = Modules.Sigmoid()\n",
    "\n",
    "model_softmax = Modules.Softmax()\n",
    "\n",
    "loss_fn = Loss.CELoss()\n",
    "\n",
    "reseau_seq_6 = Modules.Sequentiel((conv,\n",
    "                                 apool,\n",
    "                                 flatt,\n",
    "                                 model_lin_1,\n",
    "                                 relu,\n",
    "                                 model_lin_2,\n",
    "                                 model_sig,\n",
    "                                 model_softmax))\n"
   ]
  },
  {
   "cell_type": "code",
   "execution_count": null,
   "metadata": {},
   "outputs": [
    {
     "name": "stderr",
     "output_type": "stream",
     "text": [
      "/Users/souleymbaye/Documents/MesDocs/UPMC/UPMC_DAC_22/S2/ML/projet/src/Modules.py:139: RuntimeWarning: overflow encountered in exp\n",
      "  self.Y = (1 / (1 + np.exp(-X)))\n"
     ]
    },
    {
     "name": "stdout",
     "output_type": "stream",
     "text": [
      "Epoch 2 sur 2: 100.00% loss: 0.20252229517027207\n",
      "----------------------------------------\n",
      "Accuracy train: \n",
      " 10.0\n",
      "Accuracy test: \n",
      " 10.0\n"
     ]
    }
   ],
   "source": [
    "l_train_loss = Modules.SGD(reseau_seq_6,loss_fn,(X_train,y_train),batch_size=50,epochs=2,lr=1e-3,v=True)\n",
    "pred_test = Modules.prediction(X_test,reseau_seq_6)\n",
    "pred_train = Modules.prediction(X_train,reseau_seq_6)\n",
    "\n",
    "correct_test = (pred_test == y_test).sum() / len(y_test)\n",
    "correct_train = (pred_train == y_train).sum() / len(y_train)\n",
    "\n",
    "print(f\"Accuracy train: \\n {(100*correct_train):>0.1f}\")\n",
    "print(f\"Accuracy test: \\n {(100*correct_test):>0.1f}\")\n",
    "\n",
    "# Accuracy train: \n",
    "#  97.7\n",
    "# Accuracy test: \n",
    "#  96.3"
   ]
  },
  {
   "cell_type": "code",
   "execution_count": null,
   "metadata": {},
   "outputs": [
    {
     "data": {
      "image/png": "[encoded data removed]",
      "text/plain": [
       "<Figure size 432x288 with 1 Axes>"
      ]
     },
     "metadata": {},
     "output_type": "display_data"
    }
   ],
   "source": [
    "plt.figure()\n",
    "plt.plot(np.arange(len(l_train_loss)),l_train_loss)\n",
    "plt.title(\"Evolution de la loss pendant train\")\n",
    "plt.show()"
   ]
  },
  {
   "cell_type": "code",
   "execution_count": null,
   "metadata": {},
   "outputs": [],
   "source": []
  }
 ],
 "metadata": {
  "kernelspec": {
   "display_name": "Python 3",
   "language": "python",
   "name": "python3"
  },
  "language_info": {
   "codemirror_mode": {
    "name": "ipython",
    "version": 3
   },
   "file_extension": ".py",
   "mimetype": "text/x-python",
   "name": "python",
   "nbconvert_exporter": "python",
   "pygments_lexer": "ipython3",
   "version": "3.9.16"
  },
  "orig_nbformat": 4
 },
 "nbformat": 4,
 "nbformat_minor": 2
}
