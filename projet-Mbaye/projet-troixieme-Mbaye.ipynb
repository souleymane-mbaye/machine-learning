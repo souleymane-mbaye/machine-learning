{
 "cells": [
  {
   "attachments": {},
   "cell_type": "markdown",
   "metadata": {},
   "source": [
    "# Projet ML Souleymane Mbaye"
   ]
  },
  {
   "cell_type": "code",
   "execution_count": 57,
   "metadata": {},
   "outputs": [
    {
     "name": "stdout",
     "output_type": "stream",
     "text": [
      "The autoreload extension is already loaded. To reload it, use:\n",
      "  %reload_ext autoreload\n"
     ]
    }
   ],
   "source": [
    "import sys\n",
    "sys.path.append('./')\n",
    "from src import Loss,Modules\n",
    "import matplotlib.pyplot as plt\n",
    "%matplotlib inline  \n",
    "\n",
    "\n",
    "%load_ext autoreload\n",
    "%autoreload 2"
   ]
  },
  {
   "attachments": {},
   "cell_type": "markdown",
   "metadata": {},
   "source": [
    "## 1. Test du Module Linear avec MSELoss sur la classification de chiffres 1 vs 2"
   ]
  },
  {
   "cell_type": "code",
   "execution_count": 58,
   "metadata": {},
   "outputs": [],
   "source": [
    "import numpy as np\n",
    "import pickle as pkl\n",
    "\n",
    "data = pkl.load(open('data/usps.pkl', 'rb'))\n",
    "X = np.array(data['X_train'], dtype=float) # conversion de type pour une meilleure compatibilité\n",
    "Y = np.array(data['Y_train'], dtype=float)\n",
    "\n",
    "where = np.where((Y>0) & (Y<=2))[0]\n",
    "X12 = X[where]\n",
    "Y12 = Y[where]\n",
    "Y12[Y12==1] = 0\n",
    "Y12[Y12==2] = 1"
   ]
  },
  {
   "cell_type": "code",
   "execution_count": 59,
   "metadata": {},
   "outputs": [],
   "source": [
    "X_test = np.array(data['X_test'], dtype=float)\n",
    "Y_test = np.array(data['Y_test'], dtype=float)\n",
    "\n",
    "where = np.where((Y_test>0) & (Y_test<=2))[0]\n",
    "X12_test = X_test[where]\n",
    "Y12_test = Y_test[where]\n",
    "\n",
    "Y12_test[Y12_test==1] = 0\n",
    "Y12_test[Y12_test==2] = 1"
   ]
  },
  {
   "cell_type": "code",
   "execution_count": 60,
   "metadata": {},
   "outputs": [],
   "source": [
    "# Y12 = Y12.reshape(-1,1)\n",
    "# Y12_test = Y12_test.reshape(-1,1)\n",
    "# print(X12.shape,Y12.shape)"
   ]
  },
  {
   "cell_type": "code",
   "execution_count": 61,
   "metadata": {},
   "outputs": [],
   "source": [
    "model_lin_1 = Modules.Linear(256,16)\n",
    "\n",
    "model_tanh = Modules.TanH()\n",
    "\n",
    "model_lin_2 = Modules.Linear(16,1)\n",
    "\n",
    "model_sig = Modules.Sigmoid()\n",
    "\n",
    "loss_fn = Loss.MSELoss()\n",
    "\n",
    "reseau_seq = Modules.Sequentiel((model_lin_1,\n",
    "                                 model_tanh,\n",
    "                                 model_lin_2,\n",
    "                                 model_sig))\n",
    "\n",
    "optim = Modules.Optim(reseau_seq,loss_fn,)"
   ]
  },
  {
   "cell_type": "code",
   "execution_count": 62,
   "metadata": {},
   "outputs": [
    {
     "name": "stdout",
     "output_type": "stream",
     "text": [
      "Accuracy train: \n",
      " 99.7\n",
      "Accuracy test: \n",
      " 99.7\n"
     ]
    }
   ],
   "source": [
    "l_train_loss = Modules.SGD(reseau_seq,loss_fn,(X12,Y12),batch_size=5,epochs=2*50,lr=1e-3)\n",
    "pred_test = Modules.prediction(X12_test,reseau_seq)\n",
    "pred_train = Modules.prediction(X12,reseau_seq)\n",
    "\n",
    "correct_test = (pred_test == Y12_test).sum() / len(Y12_test)\n",
    "correct_train = (pred_train == Y12).sum() / len(Y12)\n",
    "\n",
    "print(f\"Accuracy train: \\n {(100*correct_train):>0.1f}\")\n",
    "print(f\"Accuracy test: \\n {(100*correct_test):>0.1f}\")\n",
    "\n",
    "# Accuracy train: \n",
    "#  99.7\n",
    "# Accuracy test: \n",
    "#  99.7"
   ]
  },
  {
   "cell_type": "code",
   "execution_count": 63,
   "metadata": {},
   "outputs": [
    {
     "data": {
      "image/png": "[encoded data removed]",
      "text/plain": [
       "<Figure size 432x288 with 1 Axes>"
      ]
     },
     "metadata": {
      "needs_background": "light"
     },
     "output_type": "display_data"
    }
   ],
   "source": [
    "plt.figure()\n",
    "plt.plot(np.arange(len(l_train_loss)),l_train_loss)\n",
    "plt.title(\"Evolution de la loss pendant train\")\n",
    "plt.show()"
   ]
  },
  {
   "cell_type": "code",
   "execution_count": null,
   "metadata": {},
   "outputs": [],
   "source": []
  }
 ],
 "metadata": {
  "kernelspec": {
   "display_name": "Python 3",
   "language": "python",
   "name": "python3"
  },
  "language_info": {
   "codemirror_mode": {
    "name": "ipython",
    "version": 3
   },
   "file_extension": ".py",
   "mimetype": "text/x-python",
   "name": "python",
   "nbconvert_exporter": "python",
   "pygments_lexer": "ipython3",
   "version": "3.9.16"
  },
  "orig_nbformat": 4
 },
 "nbformat": 4,
 "nbformat_minor": 2
}
